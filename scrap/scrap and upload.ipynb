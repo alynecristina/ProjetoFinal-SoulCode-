{
 "cells": [
  {
   "cell_type": "markdown",
   "id": "eab6fe3c-ee6d-4511-95c6-0ecafb2a9fd9",
   "metadata": {
    "tags": []
   },
   "source": [
    "## Scrap que busca arquivos no site Dados Abertos da PRF\n",
    "https://www.gov.br/prf/pt-br/acesso-a-informacao/dados-abertos/dados-abertos-acidentes\n",
    "- Dado o ano e planilhas a função faz o download dos aquivos e faz o upload na Google Cloud Storage\n",
    "- Necessário fazer as devidas autorizações para acesso à Google Cloud Storage\n"
   ]
  },
  {
   "cell_type": "code",
   "execution_count": 19,
   "id": "8c61912b-6e4c-4284-a097-2befb3a3669a",
   "metadata": {},
   "outputs": [],
   "source": [
    "# Importa biblioteca\n",
    "from google.cloud import storage\n",
    "import wget\n",
    "import io, os\n",
    "#from GCS import * -------> download do modulo em \n",
    "from bs4 import BeautifulSoup\n",
    "from urllib.request import urlopen\n",
    "from urllib.error import *\n"
   ]
  },
  {
   "cell_type": "markdown",
   "id": "fde5c82c-b10d-4153-9db7-38a2101c37f1",
   "metadata": {},
   "source": [
    "### Abre site e faz leitura do html"
   ]
  },
  {
   "cell_type": "code",
   "execution_count": 49,
   "id": "8fc2e483-0ec8-43b0-a3c4-954e0a01631f",
   "metadata": {},
   "outputs": [],
   "source": [
    "# Abre o link, retira HTML e filtra somente a tag HTML desejada \n",
    "# as tags de interesse são <a href class='external-link' para o ano e link do arquivo\n",
    "# e h2 para o tipo de arquivo Ocorrências ou Pessoas\n",
    "try:\n",
    "    html=urlopen(\"https://www.gov.br/prf/pt-br/acesso-a-informacao/dados-abertos/dados-abertos-acidentes\")\n",
    "    bs=BeautifulSoup(html.read(), 'html.parser')\n",
    "    links=bs.findAll('a', {'class':'external-link'})\n",
    "    listagrupos=bs.findAll('h2')\n",
    "except (URLError, HTTPError) as e:\n",
    "    print('Não foi possivel ler o site', e)\n"
   ]
  },
  {
   "cell_type": "code",
   "execution_count": 4,
   "id": "9f354fbe-d6fc-4711-80e8-4c3a084e7ba2",
   "metadata": {},
   "outputs": [
    {
     "data": {
      "text/plain": [
       "<h2></h2>"
      ]
     },
     "execution_count": 4,
     "metadata": {},
     "output_type": "execute_result"
    }
   ],
   "source": [
    "#Remove tag h2 não necessária\n",
    "listagrupos.pop(0)"
   ]
  },
  {
   "cell_type": "code",
   "execution_count": null,
   "id": "1fecbb87-3487-4add-a026-982309f6092b",
   "metadata": {},
   "outputs": [],
   "source": [
    "# Cria dicionário arquivos que contem o tipo da tabela e um dicionario com ano e link\n",
    "# Exemplo: {'Agrupados por ocorrência':{'ano': http://link_para_o_download}}\n",
    "n=0 #controle\n",
    "arquivos={} #dicionário armazena os links\n",
    "z=0 #controle\n",
    "for i in links:\n",
    "    ano=i.get_text()\n",
    "    if(ano[:4]=='2022'):\n",
    "        planilha=listagrupos[n].get_text()\n",
    "        arquivos[planilha]={}\n",
    "        n=n+1\n",
    "        z=1\n",
    "    if(z==1 and ano!=''):\n",
    "        link=i['href']\n",
    "        arquivos[planilha].update({ano[:4]:link"
   ]
  },
  {
   "cell_type": "code",
   "execution_count": 8,
   "id": "e71660b8-f412-4a1b-ab3a-1a174e26955c",
   "metadata": {},
   "outputs": [],
   "source": [
    "def upload(bucket,ano,planilha, caminho):\n",
    "    '''Função que faz o download dos arquivos .zip e upload para a bucket'''\n",
    "    # bucket = \"nome-da-nova-bucket\"\n",
    "    # ano = a partir de que ano será o download\n",
    "    # planilha = qual planilha: Pessoas ou Ocorrências\n",
    "    # caminho = define em quais pastas será salvo na GCS\n",
    "    \n",
    "    for i,j in arquivos.items():\n",
    "        if(i==planilha):\n",
    "            for k, v in j.items():\n",
    "                if(int(k)>=ano and int(k)<2022):\n",
    "                    if(int(k)==2021):\n",
    "                        v=v+'/download'\n",
    "                    arquivoslocal= wget.download(v)\n",
    "                    upload_objeto(bucket,arquivolocal,caminho+filename)\n",
    "                    os.remove(filename)"
   ]
  },
  {
   "cell_type": "code",
   "execution_count": 3,
   "id": "c43d6a23-d87e-4d9f-993a-f70bbd1d151f",
   "metadata": {},
   "outputs": [
    {
     "name": "stdout",
     "output_type": "stream",
     "text": [
      "Arquivo DataSet/Pessoas/acidentes2021.zip enviado para dadosbrutos/pessoas/acidentes2021.zip.\n",
      "Arquivo DataSet/Pessoas/acidentes2018.zip enviado para dadosbrutos/pessoas/acidentes2018.zip.\n",
      "Arquivo DataSet/Pessoas/acidentes2017.zip enviado para dadosbrutos/pessoas/acidentes2017.zip.\n",
      "Arquivo DataSet/Pessoas/acidentes2020.zip enviado para dadosbrutos/pessoas/acidentes2020.zip.\n"
     ]
    }
   ],
   "source": [
    "#Define a pasta dadosbrutos para envio dos arquivos\n",
    "# define a bucket para envio\n",
    "#cria_objeto é função do módulo GCS.py\n",
    "caminho=\"dadosbrutos/pessoas/\"\n",
    "bucket='projetofinalsc'\n",
    "cria_bucket(bucket)\n",
    "upload(bucket,2017,'Agrupados por pessoa', caminho)"
   ]
  },
  {
   "cell_type": "code",
   "execution_count": 10,
   "id": "c765d786-1f95-461f-a6ff-cff5c5d87484",
   "metadata": {},
   "outputs": [
    {
     "name": "stdout",
     "output_type": "stream",
     "text": [
      "Arquivo datatran2021 (1).zip enviado para dadosbrutos/ocorrencias/datatran2021 (1).zip.\n",
      "Arquivo datatran2020.zip enviado para dadosbrutos/ocorrencias/datatran2020.zip.\n",
      "Arquivo datatran2019.zip enviado para dadosbrutos/ocorrencias/datatran2019.zip.\n",
      "Arquivo datatran2018.zip enviado para dadosbrutos/ocorrencias/datatran2018.zip.\n",
      "Arquivo datatran2017.zip enviado para dadosbrutos/ocorrencias/datatran2017.zip.\n"
     ]
    }
   ],
   "source": [
    "path='dadosbrutos/ocorrencias/'\n",
    "upload(bucket,2017, 'Agrupados por ocorrência', caminho)"
   ]
  }
 ],
 "metadata": {
  "kernelspec": {
   "display_name": "Python 3",
   "language": "python",
   "name": "python3"
  },
  "language_info": {
   "codemirror_mode": {
    "name": "ipython",
    "version": 3
   },
   "file_extension": ".py",
   "mimetype": "text/x-python",
   "name": "python",
   "nbconvert_exporter": "python",
   "pygments_lexer": "ipython3",
   "version": "3.9.7"
  }
 },
 "nbformat": 4,
 "nbformat_minor": 5
}
