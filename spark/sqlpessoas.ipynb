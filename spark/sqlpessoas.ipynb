{
 "cells": [
  {
   "cell_type": "markdown",
   "id": "d8664902-280d-4011-9f1e-ee9bf6b10783",
   "metadata": {
    "id": "uewmv_9-KtKd"
   },
   "source": [
    "# **6. SparkSQL**"
   ]
  },
  {
   "cell_type": "code",
   "execution_count": null,
   "id": "964285e5-723b-4ec0-a2a2-d03ac57e7eb7",
   "metadata": {
    "id": "GlV-ip1ALuPV"
   },
   "outputs": [],
   "source": [
    "#Criando a tabela temporaria que será utilizada pelo SQL\n",
    "dfs.createOrReplaceTempView('pessoas')"
   ]
  },
  {
   "cell_type": "code",
   "execution_count": null,
   "id": "85424f2c-023b-4f3b-9c44-48e42d86cb8c",
   "metadata": {
    "colab": {
     "base_uri": "https://localhost:8080/"
    },
    "id": "0AVoltMDWvhz",
    "outputId": "ef63fcf3-d74f-46ca-ec99-31acc8ed24da"
   },
   "outputs": [
    {
     "name": "stdout",
     "output_type": "stream",
     "text": [
      "+-------------+-------------+----------------+\n",
      "|  Nivel_Lesao|         sexo|Numero_Acidentes|\n",
      "+-------------+-------------+----------------+\n",
      "|        Ileso|Não Informado|              78|\n",
      "|        Ileso|    Masculino|          206352|\n",
      "|        Ileso|     Feminino|           44678|\n",
      "|Lesões Graves|    Masculino|           57246|\n",
      "|Lesões Graves|Não Informado|              12|\n",
      "|Lesões Graves|     Feminino|           17851|\n",
      "| Lesões Leves|    Masculino|          163608|\n",
      "| Lesões Leves|Não Informado|              81|\n",
      "| Lesões Leves|     Feminino|           70220|\n",
      "|        Óbito|    Masculino|           19319|\n",
      "|        Óbito|     Feminino|            4126|\n",
      "|        Óbito|Não Informado|               7|\n",
      "+-------------+-------------+----------------+\n",
      "\n"
     ]
    }
   ],
   "source": [
    "#QUANTIDADE DE ACIDENTES AGRUPADO POR ESTADO FISICO, SEXO\n",
    "spark.sql(\"SELECT estado_fisico AS Nivel_Lesao, sexo, count(DISTINCT id) AS Numero_Acidentes FROM pessoas  GROUP BY estado_fisico, sexo ORDER BY estado_fisico ASC\").show()"
   ]
  },
  {
   "cell_type": "code",
   "execution_count": null,
   "id": "a76ae62f-643b-4273-8f32-4c832c33db8d",
   "metadata": {
    "colab": {
     "base_uri": "https://localhost:8080/"
    },
    "id": "TLcoSkLNL57_",
    "outputId": "0a7766b5-7cb9-43d0-eab6-8e547eda2a2a"
   },
   "outputs": [
    {
     "name": "stdout",
     "output_type": "stream",
     "text": [
      "+-------------+-------------+----------------+\n",
      "|  Nivel_Lesao|         sexo|Numero_Acidentes|\n",
      "+-------------+-------------+----------------+\n",
      "|        Ileso|Não Informado|              78|\n",
      "|        Ileso|    Masculino|          206352|\n",
      "|        Ileso|     Feminino|           44678|\n",
      "|Lesões Graves|    Masculino|           57246|\n",
      "|Lesões Graves|Não Informado|              12|\n",
      "|Lesões Graves|     Feminino|           17851|\n",
      "| Lesões Leves|    Masculino|          163608|\n",
      "| Lesões Leves|Não Informado|              81|\n",
      "| Lesões Leves|     Feminino|           70220|\n",
      "|        Óbito|    Masculino|           19319|\n",
      "|        Óbito|     Feminino|            4126|\n",
      "|        Óbito|Não Informado|               7|\n",
      "+-------------+-------------+----------------+\n",
      "\n"
     ]
    }
   ],
   "source": [
    "#QUANTIDADE DE ACIDENTES AGRUPADO POR SEXO\n",
    "spark.sql(\"SELECT estado_fisico AS Nivel_Lesao, sexo, count(DISTINCT id) AS Numero_Acidentes FROM pessoas GROUP BY estado_fisico, sexo ORDER BY estado_fisico ASC\").show()"
   ]
  },
  {
   "cell_type": "code",
   "execution_count": null,
   "id": "6584ad55-da06-4385-a16b-22659c683bfb",
   "metadata": {
    "colab": {
     "base_uri": "https://localhost:8080/"
    },
    "id": "YKaawPBXS033",
    "outputId": "141ab11a-af48-4fa9-8ae5-a5dc51c81c92"
   },
   "outputs": [
    {
     "name": "stdout",
     "output_type": "stream",
     "text": [
      "+-------------+-------------+----------------+\n",
      "|  Nivel_Lesao|         sexo|Numero_Acidentes|\n",
      "+-------------+-------------+----------------+\n",
      "|        Ileso|Não Informado|              78|\n",
      "|        Ileso|    Masculino|          206352|\n",
      "|        Ileso|     Feminino|           44678|\n",
      "|Lesões Graves|    Masculino|           57246|\n",
      "|Lesões Graves|Não Informado|              12|\n",
      "|Lesões Graves|     Feminino|           17851|\n",
      "| Lesões Leves|    Masculino|          163608|\n",
      "| Lesões Leves|Não Informado|              81|\n",
      "| Lesões Leves|     Feminino|           70220|\n",
      "|        Óbito|    Masculino|           19319|\n",
      "|        Óbito|     Feminino|            4126|\n",
      "|        Óbito|Não Informado|               7|\n",
      "+-------------+-------------+----------------+\n",
      "\n"
     ]
    }
   ],
   "source": [
    "#QUANTIDADE DE ACIDENTES AGRUPADO POR TIPO DE AUTOMOVEL E ESTADO FISICO\n",
    "spark.sql(\"SELECT estado_fisico AS Nivel_Lesao, sexo, count(DISTINCT id) AS Numero_Acidentes FROM pessoas  GROUP BY estado_fisico, sexo ORDER BY estado_fisico ASC\").show()"
   ]
  },
  {
   "cell_type": "code",
   "execution_count": null,
   "id": "d8bf4b34-8dff-4250-9ce0-8d847851f80a",
   "metadata": {
    "colab": {
     "base_uri": "https://localhost:8080/"
    },
    "id": "cKiRrGfJTS4-",
    "outputId": "7964a9f4-377d-47e8-a113-37c093cab5c7"
   },
   "outputs": [
    {
     "name": "stdout",
     "output_type": "stream",
     "text": [
      "+-----------+------+----------------+\n",
      "|   fase_dia|Estado|Numero_Acidentes|\n",
      "+-----------+------+----------------+\n",
      "|  Pleno dia|    MG|           26340|\n",
      "|  Pleno dia|    SC|           23954|\n",
      "|  Pleno dia|    PR|           21325|\n",
      "|Plena Noite|    MG|           14798|\n",
      "|Plena Noite|    SC|           14034|\n",
      "|Plena Noite|    PR|           13987|\n",
      "|  Pleno dia|    RS|           13259|\n",
      "|  Pleno dia|    RJ|           12417|\n",
      "|  Pleno dia|    SP|           11936|\n",
      "|  Pleno dia|    BA|            9593|\n",
      "|  Pleno dia|    GO|            9437|\n",
      "|Plena Noite|    RJ|            8157|\n",
      "|Plena Noite|    SP|            8135|\n",
      "|Plena Noite|    RS|            7919|\n",
      "|  Pleno dia|    PE|            7439|\n",
      "|  Pleno dia|    ES|            7270|\n",
      "|  Pleno dia|    MT|            6895|\n",
      "|Plena Noite|    BA|            6293|\n",
      "|Plena Noite|    GO|            5645|\n",
      "|Plena Noite|    PE|            4752|\n",
      "+-----------+------+----------------+\n",
      "only showing top 20 rows\n",
      "\n"
     ]
    }
   ],
   "source": [
    "#NUMERO DE ACIDENTES POR ESTADO AGRUPADO PELA FASE DO DIA\n",
    "spark.sql(\"SELECT fase_dia, uf AS Estado, count(DISTINCT id) AS Numero_Acidentes FROM pessoas GROUP BY fase_dia, uf ORDER BY count(DISTINCT id) DESC\").show()"
   ]
  },
  {
   "cell_type": "code",
   "execution_count": null,
   "id": "44848d79-9647-4d73-8141-b41d0e9dcb76",
   "metadata": {
    "colab": {
     "base_uri": "https://localhost:8080/"
    },
    "id": "tFXVq9qyWl8A",
    "outputId": "88680aac-84f9-4702-af41-4b4d72afbddd"
   },
   "outputs": [
    {
     "name": "stdout",
     "output_type": "stream",
     "text": [
      "+----------+-------------+---------+----------------+\n",
      "| Envolvido|  Nivel_Lesao|     sexo|Numero_Acidentes|\n",
      "+----------+-------------+---------+----------------+\n",
      "|  Condutor|        Ileso|Masculino|          200446|\n",
      "|  Condutor| Lesões Leves|Masculino|          144220|\n",
      "|Passageiro| Lesões Leves| Feminino|           48230|\n",
      "|  Condutor|Lesões Graves|Masculino|           47979|\n",
      "|Passageiro| Lesões Leves|Masculino|           32064|\n",
      "|  Condutor|        Ileso| Feminino|           27246|\n",
      "|  Condutor| Lesões Leves| Feminino|           24624|\n",
      "|Passageiro|        Ileso|Masculino|           22734|\n",
      "|Passageiro|        Ileso| Feminino|           19981|\n",
      "|  Condutor|        Óbito|Masculino|           14921|\n",
      "|Passageiro|Lesões Graves| Feminino|           11952|\n",
      "|Passageiro|Lesões Graves|Masculino|            9248|\n",
      "|  Condutor|Lesões Graves| Feminino|            5192|\n",
      "|  Pedestre|Lesões Graves|Masculino|            3938|\n",
      "|  Pedestre| Lesões Leves|Masculino|            3641|\n",
      "|  Pedestre|        Óbito|Masculino|            2896|\n",
      "|Passageiro|        Óbito| Feminino|            2747|\n",
      "|Passageiro|        Óbito|Masculino|            2519|\n",
      "|  Pedestre| Lesões Leves| Feminino|            1675|\n",
      "|  Pedestre|Lesões Graves| Feminino|            1327|\n",
      "+----------+-------------+---------+----------------+\n",
      "only showing top 20 rows\n",
      "\n"
     ]
    }
   ],
   "source": [
    "#NUMERO DE ACIDENTES POR TIPO DO ENVOLVIDO E NIVEL DE LESÃO\n",
    "spark.sql(\"SELECT tipo_envolvido as Envolvido, estado_fisico as Nivel_Lesao, sexo, count(DISTINCT id) AS Numero_Acidentes FROM pessoas  GROUP BY tipo_envolvido, estado_fisico, sexo ORDER BY count(DISTINCT id ) DESC\").show()"
   ]
  },
  {
   "cell_type": "code",
   "execution_count": null,
   "id": "70b20442-3dce-4b6c-9d97-bcf34b313ced",
   "metadata": {
    "colab": {
     "base_uri": "https://localhost:8080/"
    },
    "id": "ZouufRWmbHsu",
    "outputId": "ec57bfe7-b42d-4542-a942-a4ee0daab2be"
   },
   "outputs": [
    {
     "name": "stdout",
     "output_type": "stream",
     "text": [
      "+-----------+-------------+-------------+----------------+\n",
      "|Nivel_Lesao|         sexo|   dia_semana|Numero_Acidentes|\n",
      "+-----------+-------------+-------------+----------------+\n",
      "|      Óbito|    Masculino|      domingo|            4012|\n",
      "|      Óbito|    Masculino|       sábado|            3683|\n",
      "|      Óbito|    Masculino|  sexta-feira|            2761|\n",
      "|      Óbito|    Masculino|segunda-feira|            2397|\n",
      "|      Óbito|    Masculino| quinta-feira|            2319|\n",
      "|      Óbito|    Masculino| quarta-feira|            2094|\n",
      "|      Óbito|    Masculino|  terça-feira|            2053|\n",
      "|      Óbito|     Feminino|      domingo|             924|\n",
      "|      Óbito|     Feminino|       sábado|             721|\n",
      "|      Óbito|     Feminino|  sexta-feira|             612|\n",
      "|      Óbito|     Feminino|segunda-feira|             530|\n",
      "|      Óbito|     Feminino| quinta-feira|             459|\n",
      "|      Óbito|     Feminino| quarta-feira|             443|\n",
      "|      Óbito|     Feminino|  terça-feira|             437|\n",
      "|      Óbito|Não Informado|  sexta-feira|               2|\n",
      "|      Óbito|Não Informado|segunda-feira|               2|\n",
      "|      Óbito|Não Informado|      domingo|               1|\n",
      "|      Óbito|Não Informado| quarta-feira|               1|\n",
      "|      Óbito|Não Informado|       sábado|               1|\n",
      "+-----------+-------------+-------------+----------------+\n",
      "\n"
     ]
    }
   ],
   "source": [
    "#NUMERO DE MORTES POR GENERO E POR DIA DA SEMANA\n",
    "spark.sql(\"SELECT estado_fisico AS Nivel_Lesao, sexo, dia_semana, count(DISTINCT id) AS Numero_Acidentes FROM pessoas WHERE estado_fisico = 'Óbito' GROUP BY estado_fisico, sexo, dia_semana ORDER BY Numero_Acidentes desc\").show()"
   ]
  }
 ],
 "metadata": {
  "kernelspec": {
   "display_name": "Python 3",
   "language": "python",
   "name": "python3"
  },
  "language_info": {
   "codemirror_mode": {
    "name": "ipython",
    "version": 3
   },
   "file_extension": ".py",
   "mimetype": "text/x-python",
   "name": "python",
   "nbconvert_exporter": "python",
   "pygments_lexer": "ipython3",
   "version": "3.9.7"
  }
 },
 "nbformat": 4,
 "nbformat_minor": 5
}
