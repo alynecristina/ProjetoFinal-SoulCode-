{
 "cells": [
  {
   "cell_type": "markdown",
   "id": "6c14f278-bb7b-4305-be10-f35086edbf63",
   "metadata": {},
   "source": [
    "# **Pyspark**"
   ]
  },
  {
   "cell_type": "markdown",
   "id": "1e3354a1-d35e-48fd-9daf-a6bbc82fe7cd",
   "metadata": {},
   "source": [
    "#### Importa bibliotecas"
   ]
  },
  {
   "cell_type": "code",
   "execution_count": 5,
   "id": "3d6a4ef3-b599-4b1d-927c-9a7c7f7aca78",
   "metadata": {},
   "outputs": [],
   "source": [
    "from pyspark import SparkConf, SparkContext\n",
    "from pyspark.sql import SparkSession\n",
    "from pyspark import SparkConf\n",
    "import pyspark.sql.functions as F\n",
    "from pyspark.sql.types import *\n",
    "from pyspark.sql.functions import *\n",
    "from pyspark.sql.functions import countDistinct\n",
    "from pyspark.sql import Window\n",
    "import os"
   ]
  },
  {
   "cell_type": "markdown",
   "id": "e25f4188-dba0-451d-8833-0dde2a96c373",
   "metadata": {},
   "source": [
    "#### Cria schema"
   ]
  },
  {
   "cell_type": "code",
   "execution_count": 6,
   "id": "83a2742a-fe12-49f1-b0ec-5d84e4a3fd90",
   "metadata": {},
   "outputs": [],
   "source": [
    "\n",
    "schema = StructType(\n",
    "   [StructField('id', StringType(), True),\n",
    "    StructField('data', StringType(), True),\n",
    "    StructField('dia_semana', StringType(), True),\n",
    "    StructField('uf', StringType(), True),\n",
    "    StructField('rodovia', StringType(), True),\n",
    "    StructField('km', FloatType(), True),\n",
    "    StructField('municipio', StringType(), True),\n",
    "    StructField('causa_acidente', StringType(), True),\n",
    "    StructField('tipo_acidente', StringType(), True),\n",
    "    StructField('classificacao_acidente', StringType(), True),\n",
    "    StructField('fase_dia', StringType(), True),\n",
    "    StructField('sentido_via', StringType(), True),\n",
    "    StructField('condicao_metereologica', StringType(), True),\n",
    "    StructField('tipo_pista', StringType(), True),\n",
    "    StructField('tracado_via', StringType(), True),\n",
    "    StructField('uso_solo', StringType(), True),\n",
    "    StructField('pessoas', IntegerType(), True),\n",
    "    StructField('mortos', IntegerType(), True),\n",
    "    StructField('feridos_leves', IntegerType(), True),\n",
    "    StructField('feridos_graves', IntegerType(), True),\n",
    "    StructField('ilesos', IntegerType(), True),\n",
    "    StructField('ignorados', IntegerType(), True),\n",
    "    StructField('feridos', IntegerType(), True),\n",
    "    StructField('veiculos', IntegerType(), True),\n",
    "    StructField('latitude', StringType(), True),\n",
    "    StructField('longitude', StringType(), True),\n",
    "  \n",
    "   ]\n",
    "  )"
   ]
  },
  {
   "cell_type": "code",
   "execution_count": null,
   "id": "71850e81-7e75-4b67-b60b-2bb9a43b0709",
   "metadata": {},
   "outputs": [],
   "source": [
    "df = spark.read.options(header=True).option(\"delimiter\", \";\").option(\"encoding\", \"ISO-8859-1\").csv(\"Projeto Final/acidentes_ocorrencias.csv\", schema=schema)\n",
    "df.show()"
   ]
  },
  {
   "cell_type": "markdown",
   "id": "668ab6ae-9b1a-4164-a41b-7fb5a46b68dd",
   "metadata": {},
   "source": [
    "#### Verifica únicos para condição metereológica"
   ]
  },
  {
   "cell_type": "code",
   "execution_count": 40,
   "id": "6232ced1-a2e6-4401-af1e-72839db7facd",
   "metadata": {},
   "outputs": [
    {
     "name": "stderr",
     "output_type": "stream",
     "text": [
      "[Stage 79:======================================>                   (2 + 1) / 3]\r"
     ]
    },
    {
     "name": "stdout",
     "output_type": "stream",
     "text": [
      "+----------------------+------+\n",
      "|condicao_metereologica| count|\n",
      "+----------------------+------+\n",
      "|             Céu Claro|202539|\n",
      "|               Nublado| 61714|\n",
      "|                 Chuva| 42675|\n",
      "|                   Sol| 26481|\n",
      "|        Garoa/Chuvisco| 12016|\n",
      "|              Ignorado|  5166|\n",
      "|      Nevoeiro/Neblina|  2915|\n",
      "|                 Vento|   770|\n",
      "|               Granizo|    11|\n",
      "|                  Neve|     6|\n",
      "+----------------------+------+\n",
      "\n"
     ]
    },
    {
     "name": "stderr",
     "output_type": "stream",
     "text": [
      "                                                                                \r"
     ]
    }
   ],
   "source": [
    "df.groupBy(df.condicao_metereologica).count().orderBy('count', ascending=False).show(150)"
   ]
  },
  {
   "cell_type": "code",
   "execution_count": 41,
   "id": "304845ee-9263-4627-b980-b0f34908643f",
   "metadata": {},
   "outputs": [
    {
     "name": "stderr",
     "output_type": "stream",
     "text": [
      "                                                                                \r"
     ]
    },
    {
     "data": {
      "text/plain": [
       "[Row(condicao_metereologica='Vento'),\n",
       " Row(condicao_metereologica='Ignorado'),\n",
       " Row(condicao_metereologica='Garoa/Chuvisco'),\n",
       " Row(condicao_metereologica='Nevoeiro/Neblina'),\n",
       " Row(condicao_metereologica='Chuva'),\n",
       " Row(condicao_metereologica='Neve'),\n",
       " Row(condicao_metereologica='Nublado'),\n",
       " Row(condicao_metereologica='Sol'),\n",
       " Row(condicao_metereologica='Céu Claro'),\n",
       " Row(condicao_metereologica='Granizo')]"
      ]
     },
     "execution_count": 41,
     "metadata": {},
     "output_type": "execute_result"
    }
   ],
   "source": [
    "df.select('condicao_metereologica').distinct().collect()"
   ]
  },
  {
   "cell_type": "markdown",
   "id": "ea171306-34c4-4284-bc3b-c0a12085df89",
   "metadata": {},
   "source": [
    "####  Verifica valores para traçado da via"
   ]
  },
  {
   "cell_type": "code",
   "execution_count": 42,
   "id": "4ce0e342-0b02-432a-b0c0-30a771988c92",
   "metadata": {},
   "outputs": [
    {
     "name": "stderr",
     "output_type": "stream",
     "text": [
      "                                                                                \r"
     ]
    },
    {
     "data": {
      "text/plain": [
       "[Row(tracado_via='Reta'),\n",
       " Row(tracado_via='Viaduto'),\n",
       " Row(tracado_via='Não Informado'),\n",
       " Row(tracado_via='Interseção de vias'),\n",
       " Row(tracado_via='Curva'),\n",
       " Row(tracado_via='Rotatória'),\n",
       " Row(tracado_via='Túnel'),\n",
       " Row(tracado_via='Retorno Regulamentado'),\n",
       " Row(tracado_via='Ponte'),\n",
       " Row(tracado_via='Desvio Temporário')]"
      ]
     },
     "execution_count": 42,
     "metadata": {},
     "output_type": "execute_result"
    }
   ],
   "source": [
    "df.select('tracado_via').distinct().collect()"
   ]
  },
  {
   "cell_type": "code",
   "execution_count": 43,
   "id": "73f01dfa-d822-4436-a3dd-dd1b16db0e01",
   "metadata": {},
   "outputs": [
    {
     "name": "stderr",
     "output_type": "stream",
     "text": [
      "[Stage 88:======================================>                   (2 + 1) / 3]\r"
     ]
    },
    {
     "name": "stdout",
     "output_type": "stream",
     "text": [
      "+--------------------+------+\n",
      "|         tracado_via| count|\n",
      "+--------------------+------+\n",
      "|                Reta|215175|\n",
      "|               Curva| 59196|\n",
      "|       Não Informado| 38046|\n",
      "|  Interseção de vias| 15912|\n",
      "|   Desvio Temporário|  9848|\n",
      "|           Rotatória|  7127|\n",
      "|Retorno Regulamen...|  4102|\n",
      "|             Viaduto|  2510|\n",
      "|               Ponte|  1963|\n",
      "|               Túnel|   414|\n",
      "+--------------------+------+\n",
      "\n"
     ]
    },
    {
     "name": "stderr",
     "output_type": "stream",
     "text": [
      "                                                                                \r"
     ]
    }
   ],
   "source": [
    "df.groupBy(df.tracado_via).count().orderBy('count', ascending=False).show(150)"
   ]
  },
  {
   "cell_type": "markdown",
   "id": "7ee8b73d-9303-4ff7-ae53-f94ca9f3297d",
   "metadata": {},
   "source": [
    "#### Cria nova coluna que agrupa as causas de acidentes\n",
    "- Falha Humana\n",
    "- Falha Mecânica\n",
    "- Fenômenos da natureza\n",
    "- Infraestrutura da pista\n",
    "- Pedestre\n",
    "- Outros"
   ]
  },
  {
   "cell_type": "code",
   "execution_count": null,
   "id": "b4e3977b-3ee6-42f0-9945-aa848852b22e",
   "metadata": {},
   "outputs": [],
   "source": [
    "df.select([count(when(isnan(c), c)).alias(c) for c in df.columns]).show(vertical=True)"
   ]
  },
  {
   "cell_type": "code",
   "execution_count": null,
   "id": "6d097403-f700-49bd-9f75-d14b019dcc06",
   "metadata": {},
   "outputs": [],
   "source": [
    "b=[x[0] for x in df.select('causa_acidente').distinct().collect()]"
   ]
  },
  {
   "cell_type": "code",
   "execution_count": null,
   "id": "b8aa4202-4969-41ac-9f59-0e67ca9b8caa",
   "metadata": {},
   "outputs": [],
   "source": [
    "condicao=when( (col('causa_acidente')=='Falta de Atenção à Condução')|\n",
    "               (col('causa_acidente')=='Velocidade Incompatível')|\n",
    "               (col('causa_acidente')=='Mal Súbito') |\n",
    "               (col('causa_acidente')=='Não guardar distância de segurança')|\n",
    "               (col('causa_acidente')=='Ultrapassagem Indevida')|\n",
    "               (col('causa_acidente')=='Ingestão de Substâncias Psicoativas')|\n",
    "               (col('causa_acidente')=='Desobediência às normas de trânsito pelo condutor')|\n",
    "               (col('causa_acidente')=='Carga excessiva e/ou mal acondicionada')|\n",
    "               (col('causa_acidente')=='Transitar no acostamento')|\n",
    "               (col('causa_acidente')=='Conversão proibida')|\n",
    "               (col('causa_acidente')=='Estacionar ou parar em local proibido')|\n",
    "               (col('causa_acidente')== 'Transitar no acostamento')|\n",
    "               (col('causa_acidente')=='Reação tardia ou ineficiente do condutor')|\n",
    "               (col('causa_acidente')=='Ausência de reação do condutor')|\n",
    "               (col('causa_acidente')=='Desrespeitar a preferência no cruzamento')|\n",
    "               (col('causa_acidente')=='Condutor deixou de manter distância do veículo da frente')|\n",
    "               (col('causa_acidente')=='Acessar a via sem observar a presença dos outros veículos')|\n",
    "               (col('causa_acidente')=='Mal súbito do condutor')|\n",
    "               (col('causa_acidente')=='Transitar na contramão')|\n",
    "               (col('causa_acidente')== 'Condutor desrespeitou a iluminação vermelha do semáforo')|\n",
    "               (col('causa_acidente')=='Condutor Dormindo')|\n",
    "               (col('causa_acidente')=='Deficiência ou não Acionamento do Sistema de Iluminação/Sinalização do Veículo')|\n",
    "               (col('causa_acidente')=='Ingestão de Álcool')|\n",
    "               (col('causa_acidente')=='Ingestão de álcool pelo condutor')|\n",
    "               (col('causa_acidente')=='Manobra de mudança de faixa')|\n",
    "               (col('causa_acidente')=='Ingestão de substâncias psicoativas pelo condutor')|\n",
    "               (col('causa_acidente')=='Trafegar com motocicleta (ou similar) entre as faixas')|\n",
    "               (col('causa_acidente')=='Deixar de acionar o farol da motocicleta (ou similar)')|\n",
    "               (col('causa_acidente')=='Participar de racha')|\n",
    "               (col('causa_acidente')=='Frear bruscamente')|\n",
    "               (col('causa_acidente')=='Retorno proibido')|\n",
    "               (col('causa_acidente')=='Transitar na calçada')|\n",
    "               (col('causa_acidente')=='Condutor usando celular'),'Falha Humana').when((col('causa_acidente')=='Demais falhas mecânicas ou elétricas')|\n",
    "               (col('causa_acidente')=='Demais falhas mecânicas ou elétricas')|\n",
    "               (col('causa_acidente')=='Modificação proibida')|\n",
    "               (col('causa_acidente')=='Avarias e/ou desgaste excessivo no pneu')|\n",
    "               (col('causa_acidente')=='Problema na suspensão')|\n",
    "               (col('causa_acidente')=='Problema com o freio')|\n",
    "               (col('causa_acidente')=='Defeito Mecânico no Veículo')|\n",
    "               (col('causa_acidente')== 'Faróis desregulados'), 'Falha Mecânica').when((col('causa_acidente')== 'Chuva')|\n",
    "               (col('causa_acidente')=='Restrição de Visibilidade')|\n",
    "               (col('causa_acidente')=='Animais na Pista')|\n",
    "               (col('causa_acidente')=='Neblina')|\n",
    "               (col('causa_acidente')=='Fenômenos da Natureza')|\n",
    "               (col('causa_acidente')=='Demais Fenômenos da natureza')|\n",
    "               (col('causa_acidente')=='Fumaça'), 'Fenômenos da Natureza').when((col('causa_acidente')=='Curva acentuada')|\n",
    "               (col('causa_acidente')== 'Ausência de sinalização')|(col('causa_acidente')=='Curva acentuada')|\n",
    "               (col('causa_acidente')=='Acesso irregular')|\n",
    "               (col('causa_acidente')=='Desvio temporário')|\n",
    "               (col('causa_acidente')=='Acostamento em desnível')|\n",
    "               (col('causa_acidente')=='Área urbana sem a presença de local apropriado para a travessia de pedestres')|\n",
    "               (col('causa_acidente')=='Pista esburacada')|\n",
    "               (col('causa_acidente')=='Semáforo com defeito')|(col('causa_acidente')=='Sinalização encoberta')|\n",
    "               (col('causa_acidente')=='Pista Escorregadia')|(col('causa_acidente')=='Defeito na Via')|\n",
    "               (col('causa_acidente')=='Sinalização da via insuficiente ou inadequada')|(col('causa_acidente')=='Modificação proibida')|\n",
    "               (col('causa_acidente')=='Acumulo de areia ou detritos sobre o pavimento')|\n",
    "               (col('causa_acidente')=='Iluminação deficiente')|(col('causa_acidente')=='Afundamento ou ondulação no pavimento')|\n",
    "               (col('causa_acidente')=='Acumulo de água sobre o pavimento')|(col('causa_acidente')=='Sistema de drenagem ineficiente')|\n",
    "               (col('causa_acidente')=='Redutor de velocidade em desacordo')|\n",
    "               (col('causa_acidente')=='Acumulo de óleo sobre o pavimento')|(col('causa_acidente')=='Declive acentuado')|(col('causa_acidente')=='Faixas de trânsito com largura insuficiente')|\n",
    "               (col('causa_acidente')=='Sistema de drenagem ineficiente')|\n",
    "               (col('causa_acidente')=='Deficiência do Sistema de Iluminação/Sinalização')|\n",
    "               (col('causa_acidente')=='Restrição de visibilidade em curvas verticais')|\n",
    "               (col('causa_acidente')=='Falta de acostamento')| (col('causa_acidente')=='Sinalização mal posicionada')|(col('causa_acidente')=='Pista em desnível')|(col('causa_acidente')== 'Obras na pista')|\n",
    "               (col('causa_acidente')=='Demais falhas na via'), 'Infraestrutura da Pista') .when((col('causa_acidente')=='Ingestão de álcool e/ou substâncias psicoativas pelo pedestre')|\n",
    "               (col('causa_acidente')=='Pedestre cruzava a pista fora da faixa')|\n",
    "               (col('causa_acidente')=='Entrada inopinada do pedestre')|(col('causa_acidente')=='Ingestão de álcool ou de substâncias psicoativas pelo pedestre')|\n",
    "               (col('causa_acidente')=='Falta de Atenção do Pedestre')|\n",
    "               (col('causa_acidente')=='Pedestre andava na pista')|\n",
    "               (col('causa_acidente')=='Desobediência às normas de trânsito pelo pedestre'), 'Pedestre').otherwise('Outros')"
   ]
  },
  {
   "cell_type": "code",
   "execution_count": null,
   "id": "97a06cbd-a1dc-4c94-9963-b5a8cabae13c",
   "metadata": {},
   "outputs": [],
   "source": [
    "df=df.withColumn(\"causa_grupos\", condicao)"
   ]
  },
  {
   "cell_type": "markdown",
   "id": "b368d4f2-20a1-4eb7-aa94-15c9ef3fd996",
   "metadata": {},
   "source": [
    "#### Cria coluna que diz se a caysa do acidente está relacionada ou não ao consumo de álcool"
   ]
  },
  {
   "cell_type": "code",
   "execution_count": null,
   "id": "1f530855-c780-4e38-9117-5d46bba410e8",
   "metadata": {},
   "outputs": [],
   "source": [
    "df=df.withColumn(\"consumo_alcool\", F.col('causa_acidente').rlike(\"Álcool\"))\n",
    "df=df.withColumn('consumo_alcool', when(df.consumo_alcool=='true', 'sim').otherwise('não'))"
   ]
  }
 ],
 "metadata": {
  "kernelspec": {
   "display_name": "PySpark",
   "language": "python",
   "name": "pysparkkernel"
  },
  "language_info": {
   "codemirror_mode": {
    "name": "ipython",
    "version": 3
   },
   "file_extension": ".py",
   "mimetype": "text/x-python",
   "name": "python",
   "nbconvert_exporter": "python",
   "pygments_lexer": "ipython3",
   "version": "3.7.12"
  }
 },
 "nbformat": 4,
 "nbformat_minor": 5
}
