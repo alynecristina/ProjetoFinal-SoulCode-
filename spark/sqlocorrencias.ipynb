{
 "cells": [
  {
   "cell_type": "code",
   "execution_count": null,
   "id": "75e6af1c-d8a7-4934-ac0b-e9221ac080ef",
   "metadata": {},
   "outputs": [],
   "source": [
    "from pyspark import SparkConf, SparkContext\n",
    "from pyspark.sql import SparkSession\n",
    "from pyspark import SparkConf\n",
    "import pyspark.sql.functions as F\n",
    "from pyspark.sql.types import *\n",
    "from pyspark.sql.functions import *\n",
    "from pyspark.sql.functions import countDistinct\n",
    "from pyspark.sql import Window\n",
    "import os"
   ]
  },
  {
   "cell_type": "code",
   "execution_count": null,
   "id": "640fb272-24b6-4f98-b0be-a6fd583ed2eb",
   "metadata": {},
   "outputs": [],
   "source": [
    "schema = StructType(\n",
    "   [StructField('id', StringType(), True),\n",
    "    StructField('data', StringType(), True),\n",
    "    StructField('dia_semana', StringType(), True),\n",
    "    StructField('uf', StringType(), True),\n",
    "    StructField('rodovia', StringType(), True),\n",
    "    StructField('km', FloatType(), True),\n",
    "    StructField('municipio', StringType(), True),\n",
    "    StructField('causa_acidente', StringType(), True),\n",
    "    StructField('tipo_acidente', StringType(), True),\n",
    "    StructField('classificacao_acidente', StringType(), True),\n",
    "    StructField('fase_dia', StringType(), True),\n",
    "    StructField('sentido_via', StringType(), True),\n",
    "    StructField('condicao_metereologica', StringType(), True),\n",
    "    StructField('tipo_pista', StringType(), True),\n",
    "    StructField('tracado_via', StringType(), True),\n",
    "    StructField('uso_solo', StringType(), True),\n",
    "    StructField('pessoas', IntegerType(), True),\n",
    "    StructField('mortos', IntegerType(), True),\n",
    "    StructField('feridos_leves', IntegerType(), True),\n",
    "    StructField('feridos_graves', IntegerType(), True),\n",
    "    StructField('ilesos', IntegerType(), True),\n",
    "    StructField('ignorados', IntegerType(), True),\n",
    "    StructField('feridos', IntegerType(), True),\n",
    "    StructField('veiculos', IntegerType(), True),\n",
    "    StructField('latitude', FloatType(), True),\n",
    "    StructField('longitude', FloatType(), True),\n",
    "  \n",
    "   ]\n",
    "  )"
   ]
  },
  {
   "cell_type": "code",
   "execution_count": null,
   "id": "0ba86d5c-a38c-404e-969f-72239a22ee0b",
   "metadata": {},
   "outputs": [],
   "source": [
    "df = spark.read.options(header=True).option(\"delimiter\", \",\").csv(\"gs://acidentes_terrestres/dados_tratados/acidente_ocorrencia_coluna.csv\")\n",
    "df.show()"
   ]
  },
  {
   "cell_type": "code",
   "execution_count": null,
   "id": "1e10edad-d4d4-4fb4-bf7d-70f971503a81",
   "metadata": {},
   "outputs": [],
   "source": [
    "df.createOrReplaceTempView('ocorrencias')"
   ]
  },
  {
   "cell_type": "code",
   "execution_count": null,
   "id": "8307c2dc-cd54-4632-82e5-dda4b0dc0c16",
   "metadata": {},
   "outputs": [],
   "source": [
    "spark.sql('SELECT causa_grupos, COUNT(id) FROM  ocorrencias GROUP BY causa_grupos ORDER BY COUNT(id)' ).show()"
   ]
  },
  {
   "cell_type": "code",
   "execution_count": null,
   "id": "86317579-3d67-4265-b07d-cf1f9625ce75",
   "metadata": {},
   "outputs": [],
   "source": [
    "spark.sql('SELECT data, rodovia, count(DISTINCT id) FROM ocorrencias GROUP BY data, rodovia ORDER BY count(mortos) DESC').show()"
   ]
  },
  {
   "cell_type": "code",
   "execution_count": null,
   "id": "bd053c27-3f4d-4406-a6b6-0047fb525a9a",
   "metadata": {},
   "outputs": [],
   "source": [
    "spark.sql('SELECT dia_semana, count(id) from ocorrencias GROUP BY dia_semana ORDER BY count(id) desc' ).show()"
   ]
  },
  {
   "cell_type": "code",
   "execution_count": null,
   "id": "44f0b5cc-3b10-401e-b0d4-9c74a0047e95",
   "metadata": {},
   "outputs": [],
   "source": [
    "spark.sql('SELECT consumo_alcool, count(id) from ocorrencias group by consumo_alcool order by count(id) desc'  ).show()"
   ]
  },
  {
   "cell_type": "code",
   "execution_count": null,
   "id": "46c09fa2-bd57-4f11-bdcf-8643e15cb0b8",
   "metadata": {},
   "outputs": [],
   "source": [
    "spark.sql('SELECT uf, rodovia, count(id) from ocorrencias group by uf, rodovia order by count(id)').show()"
   ]
  }
 ],
 "metadata": {
  "kernelspec": {
   "display_name": "PySpark",
   "language": "python",
   "name": "pyspark"
  },
  "language_info": {
   "codemirror_mode": {
    "name": "ipython",
    "version": 3
   },
   "file_extension": ".py",
   "mimetype": "text/x-python",
   "name": "python",
   "nbconvert_exporter": "python",
   "pygments_lexer": "ipython3",
   "version": "3.8.12"
  }
 },
 "nbformat": 4,
 "nbformat_minor": 5
}
