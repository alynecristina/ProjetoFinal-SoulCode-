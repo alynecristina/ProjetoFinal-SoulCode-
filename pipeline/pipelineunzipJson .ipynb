{
 "cells": [
  {
   "cell_type": "markdown",
   "id": "3f052017-8fc9-4c48-8551-863b48eb0b1e",
   "metadata": {},
   "source": [
    "### Pipeline que busca arquivos zipados na GCS, concatena e salva novamente na GCS"
   ]
  },
  {
   "cell_type": "markdown",
   "id": "edefd53f-08c8-4097-883d-321309a784fe",
   "metadata": {
    "tags": []
   },
   "source": [
    "#### Importa bibliotecas"
   ]
  },
  {
   "cell_type": "code",
   "execution_count": 1,
   "id": "2c2fe73d-b4a4-451d-8652-67c26ec7db43",
   "metadata": {},
   "outputs": [],
   "source": [
    "import zipfile\n",
    "from zipfile import ZipFile\n",
    "import google.auth\n",
    "import apache_beam as beam\n",
    "from apache_beam.io import fileio\n",
    "from apache_beam.options import pipeline_options\n",
    "from apache_beam.options.pipeline_options import PipelineOptions\n",
    "from apache_beam.dataframe import convert\n",
    "import argparse\n",
    "import os\n",
    "import json\n",
    "import pandas as pd"
   ]
  },
  {
   "cell_type": "markdown",
   "id": "fecd74a2-380b-4c8e-91b4-034ecc0b7dd7",
   "metadata": {},
   "source": [
    "#### Autorizações para acesso a GCS e cria bucket para arquivos temporários"
   ]
  },
  {
   "cell_type": "code",
   "execution_count": 2,
   "id": "9974c884-b034-469d-9fbe-ea7449d29a48",
   "metadata": {},
   "outputs": [],
   "source": [
    "project = google.auth.default()[1]\n",
    "options = pipeline_options.PipelineOptions(\n",
    "    streaming=True,\n",
    "    project=project\n",
    ")"
   ]
  },
  {
   "cell_type": "code",
   "execution_count": 3,
   "id": "fdc4d4e3-e13f-4541-b872-f453ace269ca",
   "metadata": {},
   "outputs": [],
   "source": [
    "#cria bucket para envio dos aquivos temporários\n",
    "#!gsutil mb  gs://temporariospj\n",
    "bucket='temporariospj'"
   ]
  },
  {
   "cell_type": "markdown",
   "id": "187da6a1-dfae-499c-89a7-26ee77ab19ef",
   "metadata": {
    "tags": []
   },
   "source": [
    "#### Define a função run que executa todos os passos da pipeline\n",
    "##### Usa options para rodar localmente e argv para o DataFlowRunner\n"
   ]
  },
  {
   "cell_type": "code",
   "execution_count": 4,
   "id": "36c22073-1274-4bae-8b90-7d6b0e621af8",
   "metadata": {},
   "outputs": [],
   "source": [
    "def run():\n",
    "    #Lê arquivo zipado, descomprime e separa por linhas\n",
    "    def unzip(readable_file):\n",
    "        import zipfile\n",
    "        from zipfile import ZipFile\n",
    "        arquivo_zip=zipfile.ZipFile(readable_file.open('r'))\n",
    "        nome=arquivo_zip.namelist()\n",
    "        arquivo=arquivo_zip.read(nome[0])\n",
    "        arquivo_json= json.loads(arquivo.decode(\"utf-8\"))\n",
    "        yield arquivo_json\n",
    "    def dataframe(readable_file):\n",
    "        import pandas as pd\n",
    "        df=pd.DataFrame.from_dict(readable_file)\n",
    "        yield df\n",
    "    #Informações para rodar pipeline no DataFlow\n",
    "    argv = [\n",
    "      '--project={0}'.format(project),\n",
    "      '--region=us-central1',  \n",
    "      '--staging_location=gs://{0}/staging/'.format(bucket),\n",
    "      '--temp_location=gs://{0}/staging/'.format(bucket),\n",
    "      '--runner=DataflowRunner',\n",
    "      '--template_location:gs://{0}/model/'.format(bucket)  ]\n",
    "    \n",
    "    p = beam.Pipeline(argv=argv)\n",
    "    (p\n",
    "            | 'Procura arquivo' >> beam.io.fileio.MatchFiles('gs://projetofinalscacademy/dadosbrutos/pessoas/acidentes20*.zip')\n",
    "            | 'Encontra os targets' >> beam.io.fileio.ReadMatches() \n",
    "            | 'Unzipa' >> beam.FlatMap(unzip)\n",
    "            | 'Dataframe'>> beam.FlatMap(dataframe)\n",
    "            | 'Dicionario'>>beam.FlatMap(lambda df: df.to_dict('records'))\n",
    "            |  'Json'>>beam.Map(json.dumps)\n",
    "            | 'Escreve arquivo' >> beam.io.WriteToText('gs://projetofinalscacademy/dadosbrutos/pessoas/acidente_pessoas',file_name_suffix='.json'))\n",
    "    p.run()"
   ]
  },
  {
   "cell_type": "code",
   "execution_count": 5,
   "id": "3d07cba5-b491-428f-a565-e2dfde9af2ea",
   "metadata": {},
   "outputs": [
    {
     "name": "stderr",
     "output_type": "stream",
     "text": [
      "WARNING:root:Make sure that locally built Python SDK docker image has Python 3.7 interpreter.\n",
      "WARNING:apache_beam.options.pipeline_options:Discarding unparseable args: ['--template_location:gs://temporariospj/model/']\n",
      "WARNING:apache_beam.options.pipeline_options:Discarding unparseable args: ['--template_location:gs://temporariospj/model/']\n"
     ]
    }
   ],
   "source": [
    "run()"
   ]
  },
  {
   "cell_type": "code",
   "execution_count": 6,
   "id": "8454ddaa-b963-47d1-8683-c7590ae5ec86",
   "metadata": {},
   "outputs": [
    {
     "name": "stderr",
     "output_type": "stream",
     "text": [
      "WARNING:apache_beam.options.pipeline_options:Discarding unparseable args: ['-f', '/root/.local/share/jupyter/runtime/kernel-1817c9c9-7865-4db7-9984-2d1a45d95a7e.json']\n"
     ]
    },
    {
     "data": {
      "text/plain": [
       "<PCollection[[6]: Escreve arquivo/Write/WriteImpl/FinalizeWrite.None] at 0x7f1ff3fc4710>"
      ]
     },
     "execution_count": 6,
     "metadata": {},
     "output_type": "execute_result"
    }
   ],
   "source": [
    "from apache_beam.runners.interactive import interactive_runner\n",
    "import apache_beam.runners.interactive.interactive_beam as ib\n",
    "\n",
    "options = pipeline_options.PipelineOptions()\n",
    "\n",
    "\n",
    "def unzip(readable_file):\n",
    "    input_zip=zipfile.ZipFile(readable_file.open('r'))\n",
    "    a=input_zip.namelist()\n",
    "    b=input_zip.read(a[0])\n",
    "    d = json.loads(b.decode(\"iso-8859-1\"))\n",
    "    yield d\n",
    "def dataframe(readable_file):\n",
    "    df=pd.DataFrame.from_dict(readable_file)\n",
    "    yield df\n",
    "    \n",
    "p = beam.Pipeline(interactive_runner.InteractiveRunner(), options=options)\n",
    "(p\n",
    "        | 'Procura arquivo' >> beam.io.fileio.MatchFiles('DataSet/Pessoas/acidentes2021.zip')\n",
    "        | 'Encontra os targets' >> beam.io.fileio.ReadMatches() \n",
    "        | 'Unzipa' >> beam.FlatMap(unzip)\n",
    "        | 'Dataframe'>> beam.FlatMap(dataframe)\n",
    "        | 'Dicionario'>>beam.FlatMap(lambda df: df.to_dict('records'))\n",
    "        |  'Json'>>beam.Map(json.dumps)\n",
    "        | 'Escreve arquivo' >> beam.io.WriteToText('pessoas', file_name_suffix='.json'))"
   ]
  },
  {
   "cell_type": "code",
   "execution_count": 7,
   "id": "bb814329-88a9-4542-b804-835279e28faa",
   "metadata": {},
   "outputs": [
    {
     "data": {
      "text/html": [
       "\n",
       "            <link rel=\"stylesheet\" href=\"https://stackpath.bootstrapcdn.com/bootstrap/4.4.1/css/bootstrap.min.css\" integrity=\"sha384-Vkoo8x4CGsO3+Hhxv8T/Q5PaXtkKtu6ug5TOeNV6gBiFeWPGFN9MuhOf23Q9Ifjh\" crossorigin=\"anonymous\">\n",
       "            <div id=\"progress_indicator_6efc4d24cddbf4a1c87897f28fa05f84\" class=\"spinner-border text-info\" role=\"status\">\n",
       "            </div>"
      ],
      "text/plain": [
       "<IPython.core.display.HTML object>"
      ]
     },
     "metadata": {},
     "output_type": "display_data"
    },
    {
     "data": {
      "text/html": [
       "<?xml version=\"1.0\" encoding=\"UTF-8\" standalone=\"no\"?>\n",
       "<!DOCTYPE svg PUBLIC \"-//W3C//DTD SVG 1.1//EN\"\n",
       " \"http://www.w3.org/Graphics/SVG/1.1/DTD/svg11.dtd\">\n",
       "<!-- Generated by graphviz version 2.43.0 (0)\n",
       " -->\n",
       "<!-- Title: G Pages: 1 -->\n",
       "<svg width=\"195pt\" height=\"986pt\"\n",
       " viewBox=\"0.00 0.00 195.00 985.60\" xmlns=\"http://www.w3.org/2000/svg\" xmlns:xlink=\"http://www.w3.org/1999/xlink\">\n",
       "<g id=\"graph0\" class=\"graph\" transform=\"scale(1 1) rotate(0) translate(4 981.6)\">\n",
       "<title>G</title>\n",
       "<polygon fill=\"white\" stroke=\"transparent\" points=\"-4,4 -4,-981.6 191,-981.6 191,4 -4,4\"/>\n",
       "<!-- [6]: Procura arquivo -->\n",
       "<g id=\"node1\" class=\"node\">\n",
       "<title>[6]: Procura arquivo</title>\n",
       "<polygon fill=\"none\" stroke=\"blue\" points=\"173.5,-977.6 13.5,-977.6 13.5,-941.6 173.5,-941.6 173.5,-977.6\"/>\n",
       "<text text-anchor=\"middle\" x=\"93.5\" y=\"-955.9\" font-family=\"Times,serif\" font-size=\"14.00\" fill=\"blue\">[6]: Procura arquivo</text>\n",
       "</g>\n",
       "<!-- pcoll7244 -->\n",
       "<g id=\"node2\" class=\"node\">\n",
       "<title>pcoll7244</title>\n",
       "<ellipse fill=\"none\" stroke=\"blue\" cx=\"93.5\" cy=\"-887.6\" rx=\"18\" ry=\"18\"/>\n",
       "</g>\n",
       "<!-- [6]: Procura arquivo&#45;&gt;pcoll7244 -->\n",
       "<g id=\"edge1\" class=\"edge\">\n",
       "<title>[6]: Procura arquivo&#45;&gt;pcoll7244</title>\n",
       "<path fill=\"none\" stroke=\"black\" d=\"M93.5,-941.29C93.5,-933.58 93.5,-924.31 93.5,-915.71\"/>\n",
       "<polygon fill=\"black\" stroke=\"black\" points=\"97,-915.7 93.5,-905.7 90,-915.7 97,-915.7\"/>\n",
       "</g>\n",
       "<!-- [6]: Encontra os targets -->\n",
       "<g id=\"node3\" class=\"node\">\n",
       "<title>[6]: Encontra os targets</title>\n",
       "<polygon fill=\"none\" stroke=\"blue\" points=\"187,-833.6 0,-833.6 0,-797.6 187,-797.6 187,-833.6\"/>\n",
       "<text text-anchor=\"middle\" x=\"93.5\" y=\"-811.9\" font-family=\"Times,serif\" font-size=\"14.00\" fill=\"blue\">[6]: Encontra os targets</text>\n",
       "</g>\n",
       "<!-- pcoll7244&#45;&gt;[6]: Encontra os targets -->\n",
       "<g id=\"edge2\" class=\"edge\">\n",
       "<title>pcoll7244&#45;&gt;[6]: Encontra os targets</title>\n",
       "<path fill=\"none\" stroke=\"black\" d=\"M93.5,-869.29C93.5,-861.58 93.5,-852.31 93.5,-843.71\"/>\n",
       "<polygon fill=\"black\" stroke=\"black\" points=\"97,-843.7 93.5,-833.7 90,-843.7 97,-843.7\"/>\n",
       "</g>\n",
       "<!-- pcoll3376 -->\n",
       "<g id=\"node4\" class=\"node\">\n",
       "<title>pcoll3376</title>\n",
       "<ellipse fill=\"none\" stroke=\"blue\" cx=\"93.5\" cy=\"-743.6\" rx=\"18\" ry=\"18\"/>\n",
       "</g>\n",
       "<!-- [6]: Encontra os targets&#45;&gt;pcoll3376 -->\n",
       "<g id=\"edge3\" class=\"edge\">\n",
       "<title>[6]: Encontra os targets&#45;&gt;pcoll3376</title>\n",
       "<path fill=\"none\" stroke=\"black\" d=\"M93.5,-797.29C93.5,-789.58 93.5,-780.31 93.5,-771.71\"/>\n",
       "<polygon fill=\"black\" stroke=\"black\" points=\"97,-771.7 93.5,-761.7 90,-771.7 97,-771.7\"/>\n",
       "</g>\n",
       "<!-- [6]: Unzipa -->\n",
       "<g id=\"node5\" class=\"node\">\n",
       "<title>[6]: Unzipa</title>\n",
       "<polygon fill=\"none\" stroke=\"blue\" points=\"141,-689.6 46,-689.6 46,-653.6 141,-653.6 141,-689.6\"/>\n",
       "<text text-anchor=\"middle\" x=\"93.5\" y=\"-667.9\" font-family=\"Times,serif\" font-size=\"14.00\" fill=\"blue\">[6]: Unzipa</text>\n",
       "</g>\n",
       "<!-- pcoll3376&#45;&gt;[6]: Unzipa -->\n",
       "<g id=\"edge4\" class=\"edge\">\n",
       "<title>pcoll3376&#45;&gt;[6]: Unzipa</title>\n",
       "<path fill=\"none\" stroke=\"black\" d=\"M93.5,-725.29C93.5,-717.58 93.5,-708.31 93.5,-699.71\"/>\n",
       "<polygon fill=\"black\" stroke=\"black\" points=\"97,-699.7 93.5,-689.7 90,-699.7 97,-699.7\"/>\n",
       "</g>\n",
       "<!-- pcoll9665 -->\n",
       "<g id=\"node6\" class=\"node\">\n",
       "<title>pcoll9665</title>\n",
       "<ellipse fill=\"none\" stroke=\"blue\" cx=\"93.5\" cy=\"-599.6\" rx=\"18\" ry=\"18\"/>\n",
       "</g>\n",
       "<!-- [6]: Unzipa&#45;&gt;pcoll9665 -->\n",
       "<g id=\"edge5\" class=\"edge\">\n",
       "<title>[6]: Unzipa&#45;&gt;pcoll9665</title>\n",
       "<path fill=\"none\" stroke=\"black\" d=\"M93.5,-653.29C93.5,-645.58 93.5,-636.31 93.5,-627.71\"/>\n",
       "<polygon fill=\"black\" stroke=\"black\" points=\"97,-627.7 93.5,-617.7 90,-627.7 97,-627.7\"/>\n",
       "</g>\n",
       "<!-- [6]: Dataframe -->\n",
       "<g id=\"node7\" class=\"node\">\n",
       "<title>[6]: Dataframe</title>\n",
       "<polygon fill=\"none\" stroke=\"blue\" points=\"154,-545.6 33,-545.6 33,-509.6 154,-509.6 154,-545.6\"/>\n",
       "<text text-anchor=\"middle\" x=\"93.5\" y=\"-523.9\" font-family=\"Times,serif\" font-size=\"14.00\" fill=\"blue\">[6]: Dataframe</text>\n",
       "</g>\n",
       "<!-- pcoll9665&#45;&gt;[6]: Dataframe -->\n",
       "<g id=\"edge6\" class=\"edge\">\n",
       "<title>pcoll9665&#45;&gt;[6]: Dataframe</title>\n",
       "<path fill=\"none\" stroke=\"black\" d=\"M93.5,-581.29C93.5,-573.58 93.5,-564.31 93.5,-555.71\"/>\n",
       "<polygon fill=\"black\" stroke=\"black\" points=\"97,-555.7 93.5,-545.7 90,-555.7 97,-555.7\"/>\n",
       "</g>\n",
       "<!-- pcoll8208 -->\n",
       "<g id=\"node8\" class=\"node\">\n",
       "<title>pcoll8208</title>\n",
       "<ellipse fill=\"none\" stroke=\"blue\" cx=\"93.5\" cy=\"-455.6\" rx=\"18\" ry=\"18\"/>\n",
       "</g>\n",
       "<!-- [6]: Dataframe&#45;&gt;pcoll8208 -->\n",
       "<g id=\"edge7\" class=\"edge\">\n",
       "<title>[6]: Dataframe&#45;&gt;pcoll8208</title>\n",
       "<path fill=\"none\" stroke=\"black\" d=\"M93.5,-509.29C93.5,-501.58 93.5,-492.31 93.5,-483.71\"/>\n",
       "<polygon fill=\"black\" stroke=\"black\" points=\"97,-483.7 93.5,-473.7 90,-483.7 97,-483.7\"/>\n",
       "</g>\n",
       "<!-- [6]: Dicionario -->\n",
       "<g id=\"node9\" class=\"node\">\n",
       "<title>[6]: Dicionario</title>\n",
       "<polygon fill=\"none\" stroke=\"blue\" points=\"152.5,-401.6 34.5,-401.6 34.5,-365.6 152.5,-365.6 152.5,-401.6\"/>\n",
       "<text text-anchor=\"middle\" x=\"93.5\" y=\"-379.9\" font-family=\"Times,serif\" font-size=\"14.00\" fill=\"blue\">[6]: Dicionario</text>\n",
       "</g>\n",
       "<!-- pcoll8208&#45;&gt;[6]: Dicionario -->\n",
       "<g id=\"edge8\" class=\"edge\">\n",
       "<title>pcoll8208&#45;&gt;[6]: Dicionario</title>\n",
       "<path fill=\"none\" stroke=\"black\" d=\"M93.5,-437.29C93.5,-429.58 93.5,-420.31 93.5,-411.71\"/>\n",
       "<polygon fill=\"black\" stroke=\"black\" points=\"97,-411.7 93.5,-401.7 90,-411.7 97,-411.7\"/>\n",
       "</g>\n",
       "<!-- pcoll8739 -->\n",
       "<g id=\"node10\" class=\"node\">\n",
       "<title>pcoll8739</title>\n",
       "<ellipse fill=\"none\" stroke=\"blue\" cx=\"93.5\" cy=\"-311.6\" rx=\"18\" ry=\"18\"/>\n",
       "</g>\n",
       "<!-- [6]: Dicionario&#45;&gt;pcoll8739 -->\n",
       "<g id=\"edge9\" class=\"edge\">\n",
       "<title>[6]: Dicionario&#45;&gt;pcoll8739</title>\n",
       "<path fill=\"none\" stroke=\"black\" d=\"M93.5,-365.29C93.5,-357.58 93.5,-348.31 93.5,-339.71\"/>\n",
       "<polygon fill=\"black\" stroke=\"black\" points=\"97,-339.7 93.5,-329.7 90,-339.7 97,-339.7\"/>\n",
       "</g>\n",
       "<!-- [6]: Json -->\n",
       "<g id=\"node11\" class=\"node\">\n",
       "<title>[6]: Json</title>\n",
       "<polygon fill=\"none\" stroke=\"blue\" points=\"131,-257.6 56,-257.6 56,-221.6 131,-221.6 131,-257.6\"/>\n",
       "<text text-anchor=\"middle\" x=\"93.5\" y=\"-235.9\" font-family=\"Times,serif\" font-size=\"14.00\" fill=\"blue\">[6]: Json</text>\n",
       "</g>\n",
       "<!-- pcoll8739&#45;&gt;[6]: Json -->\n",
       "<g id=\"edge10\" class=\"edge\">\n",
       "<title>pcoll8739&#45;&gt;[6]: Json</title>\n",
       "<path fill=\"none\" stroke=\"black\" d=\"M93.5,-293.29C93.5,-285.58 93.5,-276.31 93.5,-267.71\"/>\n",
       "<polygon fill=\"black\" stroke=\"black\" points=\"97,-267.7 93.5,-257.7 90,-267.7 97,-267.7\"/>\n",
       "</g>\n",
       "<!-- pcoll220 -->\n",
       "<g id=\"node12\" class=\"node\">\n",
       "<title>pcoll220</title>\n",
       "<ellipse fill=\"none\" stroke=\"blue\" cx=\"93.5\" cy=\"-167.6\" rx=\"18\" ry=\"18\"/>\n",
       "</g>\n",
       "<!-- [6]: Json&#45;&gt;pcoll220 -->\n",
       "<g id=\"edge11\" class=\"edge\">\n",
       "<title>[6]: Json&#45;&gt;pcoll220</title>\n",
       "<path fill=\"none\" stroke=\"black\" d=\"M93.5,-221.29C93.5,-213.58 93.5,-204.31 93.5,-195.71\"/>\n",
       "<polygon fill=\"black\" stroke=\"black\" points=\"97,-195.7 93.5,-185.7 90,-195.7 97,-195.7\"/>\n",
       "</g>\n",
       "<!-- [6]: Escreve arquivo -->\n",
       "<g id=\"node13\" class=\"node\">\n",
       "<title>[6]: Escreve arquivo</title>\n",
       "<polygon fill=\"none\" stroke=\"blue\" points=\"174,-113.6 13,-113.6 13,-77.6 174,-77.6 174,-113.6\"/>\n",
       "<text text-anchor=\"middle\" x=\"93.5\" y=\"-91.9\" font-family=\"Times,serif\" font-size=\"14.00\" fill=\"blue\">[6]: Escreve arquivo</text>\n",
       "</g>\n",
       "<!-- pcoll220&#45;&gt;[6]: Escreve arquivo -->\n",
       "<g id=\"edge12\" class=\"edge\">\n",
       "<title>pcoll220&#45;&gt;[6]: Escreve arquivo</title>\n",
       "<path fill=\"none\" stroke=\"black\" d=\"M93.5,-149.29C93.5,-141.58 93.5,-132.31 93.5,-123.71\"/>\n",
       "<polygon fill=\"black\" stroke=\"black\" points=\"97,-123.7 93.5,-113.7 90,-123.7 97,-123.7\"/>\n",
       "</g>\n",
       "<!-- _6 -->\n",
       "<g id=\"node14\" class=\"node\">\n",
       "<title>_6</title>\n",
       "<ellipse fill=\"none\" stroke=\"blue\" cx=\"93.5\" cy=\"-20.8\" rx=\"20.6\" ry=\"20.6\"/>\n",
       "<text text-anchor=\"middle\" x=\"93.5\" y=\"-17.1\" font-family=\"Times,serif\" font-size=\"14.00\" fill=\"blue\">_6</text>\n",
       "</g>\n",
       "<!-- [6]: Escreve arquivo&#45;&gt;_6 -->\n",
       "<g id=\"edge13\" class=\"edge\">\n",
       "<title>[6]: Escreve arquivo&#45;&gt;_6</title>\n",
       "<path fill=\"none\" stroke=\"black\" d=\"M93.5,-77.34C93.5,-69.75 93.5,-60.61 93.5,-51.95\"/>\n",
       "<polygon fill=\"black\" stroke=\"black\" points=\"97,-51.76 93.5,-41.76 90,-51.76 97,-51.76\"/>\n",
       "</g>\n",
       "</g>\n",
       "</svg>\n"
      ],
      "text/plain": [
       "<IPython.core.display.HTML object>"
      ]
     },
     "metadata": {},
     "output_type": "display_data"
    },
    {
     "data": {
      "application/javascript": [
       "\n",
       "        if (typeof window.interactive_beam_jquery == 'undefined') {\n",
       "          var jqueryScript = document.createElement('script');\n",
       "          jqueryScript.src = 'https://code.jquery.com/jquery-3.4.1.slim.min.js';\n",
       "          jqueryScript.type = 'text/javascript';\n",
       "          jqueryScript.onload = function() {\n",
       "            var datatableScript = document.createElement('script');\n",
       "            datatableScript.src = 'https://cdn.datatables.net/1.10.20/js/jquery.dataTables.min.js';\n",
       "            datatableScript.type = 'text/javascript';\n",
       "            datatableScript.onload = function() {\n",
       "              window.interactive_beam_jquery = jQuery.noConflict(true);\n",
       "              window.interactive_beam_jquery(document).ready(function($){\n",
       "                \n",
       "            $(\"#progress_indicator_6efc4d24cddbf4a1c87897f28fa05f84\").remove();\n",
       "              });\n",
       "            }\n",
       "            document.head.appendChild(datatableScript);\n",
       "          };\n",
       "          document.head.appendChild(jqueryScript);\n",
       "        } else {\n",
       "          window.interactive_beam_jquery(document).ready(function($){\n",
       "            \n",
       "            $(\"#progress_indicator_6efc4d24cddbf4a1c87897f28fa05f84\").remove();\n",
       "          });\n",
       "        }"
      ]
     },
     "metadata": {},
     "output_type": "display_data"
    }
   ],
   "source": [
    "ib.show_graph(p)"
   ]
  },
  {
   "cell_type": "code",
   "execution_count": null,
   "id": "70532149-01b9-4b69-b331-abab5f61d7e8",
   "metadata": {},
   "outputs": [],
   "source": []
  }
 ],
 "metadata": {
  "kernelspec": {
   "display_name": "01. Apache Beam 2.37.0 for Python 3",
   "language": "python",
   "name": "01-apache-beam-2.37.0"
  },
  "language_info": {
   "codemirror_mode": {
    "name": "ipython",
    "version": 3
   },
   "file_extension": ".py",
   "mimetype": "text/x-python",
   "name": "python",
   "nbconvert_exporter": "python",
   "pygments_lexer": "ipython3",
   "version": "3.7.12"
  }
 },
 "nbformat": 4,
 "nbformat_minor": 5
}
