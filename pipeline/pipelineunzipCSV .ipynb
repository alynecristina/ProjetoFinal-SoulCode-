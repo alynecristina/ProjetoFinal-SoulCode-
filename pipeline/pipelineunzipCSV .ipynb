{
 "cells": [
  {
   "cell_type": "markdown",
   "id": "3f052017-8fc9-4c48-8551-863b48eb0b1e",
   "metadata": {
    "tags": []
   },
   "source": [
    "### Pipeline que busca arquivos zipados na GCS, concatena e salva novamente na GCS"
   ]
  },
  {
   "cell_type": "markdown",
   "id": "edefd53f-08c8-4097-883d-321309a784fe",
   "metadata": {
    "tags": []
   },
   "source": [
    "#### Importa bibliotecas"
   ]
  },
  {
   "cell_type": "code",
   "execution_count": 1,
   "id": "2c2fe73d-b4a4-451d-8652-67c26ec7db43",
   "metadata": {},
   "outputs": [],
   "source": [
    "import zipfile\n",
    "from zipfile import ZipFile\n",
    "import google.auth\n",
    "import apache_beam as beam\n",
    "from apache_beam.io import fileio\n",
    "from apache_beam.options import pipeline_options\n",
    "from apache_beam.options.pipeline_options import PipelineOptions\n",
    "import argparse\n",
    "import os"
   ]
  },
  {
   "cell_type": "markdown",
   "id": "fecd74a2-380b-4c8e-91b4-034ecc0b7dd7",
   "metadata": {},
   "source": [
    "#### Autorizações para acesso a GCS e cria bucket para arquivos temporários"
   ]
  },
  {
   "cell_type": "code",
   "execution_count": 2,
   "id": "9974c884-b034-469d-9fbe-ea7449d29a48",
   "metadata": {},
   "outputs": [],
   "source": [
    "project = google.auth.default()[1]\n",
    "#Roda pipeline localmente\n",
    "options = pipeline_options.PipelineOptions(\n",
    "    streaming=True,\n",
    "    project=project\n",
    ")\n",
    "bucket='temporariospj'"
   ]
  },
  {
   "cell_type": "code",
   "execution_count": 4,
   "id": "fdc4d4e3-e13f-4541-b872-f453ace269ca",
   "metadata": {},
   "outputs": [
    {
     "name": "stdout",
     "output_type": "stream",
     "text": [
      "Creating gs://temporariosacidente/...\n",
      "ServiceException: 409 A Cloud Storage bucket named 'temporariosacidente' already exists. Try another name. Bucket names must be globally unique across all Google Cloud projects, including those outside of your organization.\n"
     ]
    }
   ],
   "source": [
    "#cria bucket para envio dos aquivos temporários\n",
    "!gsutil mb  gs://temporariosacidente"
   ]
  },
  {
   "cell_type": "markdown",
   "id": "187da6a1-dfae-499c-89a7-26ee77ab19ef",
   "metadata": {},
   "source": [
    "#### Define a função run que executa todos os passos da pipeline\n",
    "##### Usa options para rodar localmente e argv para o DataFlowRunner\n"
   ]
  },
  {
   "cell_type": "code",
   "execution_count": 5,
   "id": "36c22073-1274-4bae-8b90-7d6b0e621af8",
   "metadata": {},
   "outputs": [],
   "source": [
    "def run():\n",
    "    #Lê arquivo zipado, descomprime e separa por linhas\n",
    "    def unzip(readable_file):\n",
    "        import zipfile\n",
    "        from zipfile import ZipFile\n",
    "        arq_zip=zipfile.ZipFile(readable_file.open('r'))\n",
    "        nome=arq_zip.namelist()\n",
    "        arquivo=arq_zip.read(nome[0])\n",
    "        arquivo.decode(encoding='iso-8859-1').split('\\n')\n",
    "        bytearray(arquivo)\n",
    "        yield arquivo[363:] # tira o header\n",
    "    #informações para rodar pipeline no DataFlow\n",
    "    argv = [\n",
    "      '--project={0}'.format(project),\n",
    "      '--region=us-central1',  \n",
    "      '--staging_location=gs://{0}/staging/'.format(bucket),\n",
    "      '--temp_location=gs://{0}/staging/'.format(bucket),\n",
    "      '--runner=DataflowRunner',\n",
    "      '--template_location:gs://{0}/model/'.format(bucket)]\n",
    "    \n",
    "    p = beam.Pipeline(argv=argv)\n",
    "    (p\n",
    "      | 'Procura arquivo' >> beam.io.fileio.MatchFiles('gs://projetofinalscacademy/dadosbrutos/ocorrencias/datatran20*.zip')\n",
    "      | 'Encontra os targets' >> beam.io.fileio.ReadMatches() \n",
    "      | 'Unzipa' >> beam.FlatMap(unzip)  \n",
    "      | 'Escreve arquivo' >> beam.io.WriteToText('gs://projetofinalscacademy/dadosbrutos/ocorrencias/acidentes_ocorrencias', file_name_suffix='.csv'))\n",
    "\n",
    "    p.run()"
   ]
  },
  {
   "cell_type": "code",
   "execution_count": null,
   "id": "3d07cba5-b491-428f-a565-e2dfde9af2ea",
   "metadata": {},
   "outputs": [
    {
     "name": "stderr",
     "output_type": "stream",
     "text": [
      "WARNING:root:Make sure that locally built Python SDK docker image has Python 3.7 interpreter.\n",
      "WARNING:apache_beam.options.pipeline_options:Discarding unparseable args: ['--template_location:gs://temporariospj/model/']\n",
      "WARNING:apache_beam.options.pipeline_options:Discarding unparseable args: ['--template_location:gs://temporariospj/model/']\n"
     ]
    }
   ],
   "source": [
    "run()"
   ]
  },
  {
   "cell_type": "markdown",
   "id": "4ef005ff-fcb8-418c-857c-9fe5696650ff",
   "metadata": {},
   "source": [
    "#### Visualização com Interactive Runner"
   ]
  },
  {
   "cell_type": "code",
   "execution_count": 10,
   "id": "a943a748-ade1-4265-9796-cddc759e3b80",
   "metadata": {},
   "outputs": [],
   "source": [
    "from apache_beam.runners.interactive import interactive_runner\n",
    "import apache_beam.runners.interactive.interactive_beam as ib"
   ]
  },
  {
   "cell_type": "code",
   "execution_count": 6,
   "id": "96130dbc-b87a-40a0-bca3-b8067e2cf026",
   "metadata": {},
   "outputs": [],
   "source": [
    "options = pipeline_options.PipelineOptions()"
   ]
  },
  {
   "cell_type": "code",
   "execution_count": 11,
   "id": "ba89e5bc-535c-4b72-9458-70e79a9ecf32",
   "metadata": {},
   "outputs": [
    {
     "name": "stderr",
     "output_type": "stream",
     "text": [
      "WARNING:apache_beam.options.pipeline_options:Discarding unparseable args: ['-f', '/root/.local/share/jupyter/runtime/kernel-0d4b9eaf-1dc1-4603-9cd0-fd588d7e5743.json']\n"
     ]
    },
    {
     "data": {
      "text/plain": [
       "<PCollection[[11]: Escreve arquivo/Write/WriteImpl/FinalizeWrite.None] at 0x7f0f2905f220>"
      ]
     },
     "execution_count": 11,
     "metadata": {},
     "output_type": "execute_result"
    }
   ],
   "source": [
    "def unzip(readable_file):\n",
    "    input_zip=zipfile.ZipFile(readable_file.open('r'))\n",
    "    a=input_zip.namelist()\n",
    "    b=input_zip.read(a[0])\n",
    "    b.decode(encoding='iso-8859-1').split('\\n')\n",
    "    bytearray(b)\n",
    "    yield b[363:]\n",
    "    #informações para rodar pipeline no DataFlow\n",
    "\n",
    "    \n",
    "p = beam.Pipeline(interactive_runner.InteractiveRunner(), options=options)\n",
    "(p\n",
    "    | 'Procura arquivo' >> beam.io.fileio.MatchFiles('Documents/Projeto_Final/DataSet/Ocorrências/datatran20*.zip')\n",
    "    | 'Encontra os targets' >> beam.io.fileio.ReadMatches() \n",
    "    | 'Unzipa' >> beam.FlatMap(unzip)  \n",
    "    | 'Escreve arquivo' >> beam.io.WriteToText('ocorrencias', file_name_suffix='.csv'))\n",
    "    "
   ]
  },
  {
   "cell_type": "code",
   "execution_count": 12,
   "id": "3756db52-15dd-4215-ae77-5dded95d2857",
   "metadata": {},
   "outputs": [
    {
     "data": {
      "text/html": [
       "\n",
       "            <link rel=\"stylesheet\" href=\"https://stackpath.bootstrapcdn.com/bootstrap/4.4.1/css/bootstrap.min.css\" integrity=\"sha384-Vkoo8x4CGsO3+Hhxv8T/Q5PaXtkKtu6ug5TOeNV6gBiFeWPGFN9MuhOf23Q9Ifjh\" crossorigin=\"anonymous\">\n",
       "            <div id=\"progress_indicator_b66e759d1f45f357c9e5d592b48984e5\" class=\"spinner-border text-info\" role=\"status\">\n",
       "            </div>"
      ],
      "text/plain": [
       "<IPython.core.display.HTML object>"
      ]
     },
     "metadata": {},
     "output_type": "display_data"
    },
    {
     "name": "stdout",
     "output_type": "stream",
     "text": [
      "/opt/conda/miniconda3/bin/dot\n"
     ]
    },
    {
     "data": {
      "text/html": [
       "<?xml version=\"1.0\" encoding=\"UTF-8\" standalone=\"no\"?>\n",
       "<!DOCTYPE svg PUBLIC \"-//W3C//DTD SVG 1.1//EN\"\n",
       " \"http://www.w3.org/Graphics/SVG/1.1/DTD/svg11.dtd\">\n",
       "<!-- Generated by graphviz version 2.50.0 (20211209.0339)\n",
       " -->\n",
       "<!-- Title: G Pages: 1 -->\n",
       "<svg width=\"204pt\" height=\"565pt\"\n",
       " viewBox=\"0.00 0.00 204.00 565.30\" xmlns=\"http://www.w3.org/2000/svg\" xmlns:xlink=\"http://www.w3.org/1999/xlink\">\n",
       "<g id=\"graph0\" class=\"graph\" transform=\"scale(1 1) rotate(0) translate(4 561.3)\">\n",
       "<title>G</title>\n",
       "<polygon fill=\"white\" stroke=\"transparent\" points=\"-4,4 -4,-561.3 200,-561.3 200,4 -4,4\"/>\n",
       "<!-- [11]: Procura arquivo -->\n",
       "<g id=\"node1\" class=\"node\">\n",
       "<title>[11]: Procura arquivo</title>\n",
       "<polygon fill=\"none\" stroke=\"blue\" points=\"182.5,-557.3 13.5,-557.3 13.5,-521.3 182.5,-521.3 182.5,-557.3\"/>\n",
       "<text text-anchor=\"middle\" x=\"98\" y=\"-535.6\" font-family=\"Times,serif\" font-size=\"14.00\" fill=\"blue\">[11]: Procura arquivo</text>\n",
       "</g>\n",
       "<!-- pcoll1349 -->\n",
       "<g id=\"node2\" class=\"node\">\n",
       "<title>pcoll1349</title>\n",
       "<ellipse fill=\"none\" stroke=\"blue\" cx=\"98\" cy=\"-467.3\" rx=\"18\" ry=\"18\"/>\n",
       "</g>\n",
       "<!-- [11]: Procura arquivo&#45;&gt;pcoll1349 -->\n",
       "<g id=\"edge1\" class=\"edge\">\n",
       "<title>[11]: Procura arquivo&#45;&gt;pcoll1349</title>\n",
       "<path fill=\"none\" stroke=\"black\" d=\"M98,-520.99C98,-513.28 98,-504.01 98,-495.41\"/>\n",
       "<polygon fill=\"black\" stroke=\"black\" points=\"101.5,-495.4 98,-485.4 94.5,-495.4 101.5,-495.4\"/>\n",
       "</g>\n",
       "<!-- [11]: Encontra os targets -->\n",
       "<g id=\"node3\" class=\"node\">\n",
       "<title>[11]: Encontra os targets</title>\n",
       "<polygon fill=\"none\" stroke=\"blue\" points=\"196,-413.3 0,-413.3 0,-377.3 196,-377.3 196,-413.3\"/>\n",
       "<text text-anchor=\"middle\" x=\"98\" y=\"-391.6\" font-family=\"Times,serif\" font-size=\"14.00\" fill=\"blue\">[11]: Encontra os targets</text>\n",
       "</g>\n",
       "<!-- pcoll1349&#45;&gt;[11]: Encontra os targets -->\n",
       "<g id=\"edge2\" class=\"edge\">\n",
       "<title>pcoll1349&#45;&gt;[11]: Encontra os targets</title>\n",
       "<path fill=\"none\" stroke=\"black\" d=\"M98,-448.99C98,-441.28 98,-432.01 98,-423.41\"/>\n",
       "<polygon fill=\"black\" stroke=\"black\" points=\"101.5,-423.4 98,-413.4 94.5,-423.4 101.5,-423.4\"/>\n",
       "</g>\n",
       "<!-- pcoll1239 -->\n",
       "<g id=\"node4\" class=\"node\">\n",
       "<title>pcoll1239</title>\n",
       "<ellipse fill=\"none\" stroke=\"blue\" cx=\"98\" cy=\"-323.3\" rx=\"18\" ry=\"18\"/>\n",
       "</g>\n",
       "<!-- [11]: Encontra os targets&#45;&gt;pcoll1239 -->\n",
       "<g id=\"edge3\" class=\"edge\">\n",
       "<title>[11]: Encontra os targets&#45;&gt;pcoll1239</title>\n",
       "<path fill=\"none\" stroke=\"black\" d=\"M98,-376.99C98,-369.28 98,-360.01 98,-351.41\"/>\n",
       "<polygon fill=\"black\" stroke=\"black\" points=\"101.5,-351.4 98,-341.4 94.5,-351.4 101.5,-351.4\"/>\n",
       "</g>\n",
       "<!-- [11]: Unzipa -->\n",
       "<g id=\"node5\" class=\"node\">\n",
       "<title>[11]: Unzipa</title>\n",
       "<polygon fill=\"none\" stroke=\"blue\" points=\"150,-269.3 46,-269.3 46,-233.3 150,-233.3 150,-269.3\"/>\n",
       "<text text-anchor=\"middle\" x=\"98\" y=\"-247.6\" font-family=\"Times,serif\" font-size=\"14.00\" fill=\"blue\">[11]: Unzipa</text>\n",
       "</g>\n",
       "<!-- pcoll1239&#45;&gt;[11]: Unzipa -->\n",
       "<g id=\"edge4\" class=\"edge\">\n",
       "<title>pcoll1239&#45;&gt;[11]: Unzipa</title>\n",
       "<path fill=\"none\" stroke=\"black\" d=\"M98,-304.99C98,-297.28 98,-288.01 98,-279.41\"/>\n",
       "<polygon fill=\"black\" stroke=\"black\" points=\"101.5,-279.4 98,-269.4 94.5,-279.4 101.5,-279.4\"/>\n",
       "</g>\n",
       "<!-- pcoll9961 -->\n",
       "<g id=\"node6\" class=\"node\">\n",
       "<title>pcoll9961</title>\n",
       "<ellipse fill=\"none\" stroke=\"blue\" cx=\"98\" cy=\"-179.3\" rx=\"18\" ry=\"18\"/>\n",
       "</g>\n",
       "<!-- [11]: Unzipa&#45;&gt;pcoll9961 -->\n",
       "<g id=\"edge5\" class=\"edge\">\n",
       "<title>[11]: Unzipa&#45;&gt;pcoll9961</title>\n",
       "<path fill=\"none\" stroke=\"black\" d=\"M98,-232.99C98,-225.28 98,-216.01 98,-207.41\"/>\n",
       "<polygon fill=\"black\" stroke=\"black\" points=\"101.5,-207.4 98,-197.4 94.5,-207.4 101.5,-207.4\"/>\n",
       "</g>\n",
       "<!-- [11]: Escreve arquivo -->\n",
       "<g id=\"node7\" class=\"node\">\n",
       "<title>[11]: Escreve arquivo</title>\n",
       "<polygon fill=\"none\" stroke=\"blue\" points=\"183,-125.3 13,-125.3 13,-89.3 183,-89.3 183,-125.3\"/>\n",
       "<text text-anchor=\"middle\" x=\"98\" y=\"-103.6\" font-family=\"Times,serif\" font-size=\"14.00\" fill=\"blue\">[11]: Escreve arquivo</text>\n",
       "</g>\n",
       "<!-- pcoll9961&#45;&gt;[11]: Escreve arquivo -->\n",
       "<g id=\"edge6\" class=\"edge\">\n",
       "<title>pcoll9961&#45;&gt;[11]: Escreve arquivo</title>\n",
       "<path fill=\"none\" stroke=\"black\" d=\"M98,-160.99C98,-153.28 98,-144.01 98,-135.41\"/>\n",
       "<polygon fill=\"black\" stroke=\"black\" points=\"101.5,-135.4 98,-125.4 94.5,-135.4 101.5,-135.4\"/>\n",
       "</g>\n",
       "<!-- _11 -->\n",
       "<g id=\"node8\" class=\"node\">\n",
       "<title>_11</title>\n",
       "<ellipse fill=\"none\" stroke=\"blue\" cx=\"98\" cy=\"-26.65\" rx=\"26.8\" ry=\"26.8\"/>\n",
       "<text text-anchor=\"middle\" x=\"98\" y=\"-22.95\" font-family=\"Times,serif\" font-size=\"14.00\" fill=\"blue\">_11</text>\n",
       "</g>\n",
       "<!-- [11]: Escreve arquivo&#45;&gt;_11 -->\n",
       "<g id=\"edge7\" class=\"edge\">\n",
       "<title>[11]: Escreve arquivo&#45;&gt;_11</title>\n",
       "<path fill=\"none\" stroke=\"black\" d=\"M98,-89.23C98,-81.7 98,-72.54 98,-63.61\"/>\n",
       "<polygon fill=\"black\" stroke=\"black\" points=\"101.5,-63.35 98,-53.35 94.5,-63.35 101.5,-63.35\"/>\n",
       "</g>\n",
       "</g>\n",
       "</svg>\n"
      ],
      "text/plain": [
       "<IPython.core.display.HTML object>"
      ]
     },
     "metadata": {},
     "output_type": "display_data"
    },
    {
     "data": {
      "application/javascript": [
       "\n",
       "        if (typeof window.interactive_beam_jquery == 'undefined') {\n",
       "          var jqueryScript = document.createElement('script');\n",
       "          jqueryScript.src = 'https://code.jquery.com/jquery-3.4.1.slim.min.js';\n",
       "          jqueryScript.type = 'text/javascript';\n",
       "          jqueryScript.onload = function() {\n",
       "            var datatableScript = document.createElement('script');\n",
       "            datatableScript.src = 'https://cdn.datatables.net/1.10.20/js/jquery.dataTables.min.js';\n",
       "            datatableScript.type = 'text/javascript';\n",
       "            datatableScript.onload = function() {\n",
       "              window.interactive_beam_jquery = jQuery.noConflict(true);\n",
       "              window.interactive_beam_jquery(document).ready(function($){\n",
       "                \n",
       "            $(\"#progress_indicator_b66e759d1f45f357c9e5d592b48984e5\").remove();\n",
       "              });\n",
       "            }\n",
       "            document.head.appendChild(datatableScript);\n",
       "          };\n",
       "          document.head.appendChild(jqueryScript);\n",
       "        } else {\n",
       "          window.interactive_beam_jquery(document).ready(function($){\n",
       "            \n",
       "            $(\"#progress_indicator_b66e759d1f45f357c9e5d592b48984e5\").remove();\n",
       "          });\n",
       "        }"
      ]
     },
     "metadata": {},
     "output_type": "display_data"
    }
   ],
   "source": [
    "ib.show_graph(p)"
   ]
  },
  {
   "cell_type": "code",
   "execution_count": null,
   "id": "fd16f248-d9aa-471f-866a-4a3418257c21",
   "metadata": {},
   "outputs": [],
   "source": []
  }
 ],
 "metadata": {
  "kernelspec": {
   "display_name": "01. Apache Beam 2.37.0 for Python 3",
   "language": "python",
   "name": "01-apache-beam-2.37.0"
  },
  "language_info": {
   "codemirror_mode": {
    "name": "ipython",
    "version": 3
   },
   "file_extension": ".py",
   "mimetype": "text/x-python",
   "name": "python",
   "nbconvert_exporter": "python",
   "pygments_lexer": "ipython3",
   "version": "3.7.12"
  }
 },
 "nbformat": 4,
 "nbformat_minor": 5
}
